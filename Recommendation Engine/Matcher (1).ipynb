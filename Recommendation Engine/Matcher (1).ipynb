{
  "cells": [
    {
      "cell_type": "code",
      "execution_count": 1,
      "metadata": {
        "id": "G0wojsqkLpy0"
      },
      "outputs": [],
      "source": [
        "import pandas as pd"
      ]
    },
    {
      "cell_type": "code",
      "execution_count": 3,
      "metadata": {
        "id": "6txDWs9ALvN5"
      },
      "outputs": [],
      "source": [
        "import numpy as np"
      ]
    },
    {
      "cell_type": "code",
      "execution_count": 4,
      "metadata": {
        "colab": {
          "base_uri": "https://localhost:8080/"
        },
        "id": "gpJ3KJRgU-za",
        "outputId": "856f8d02-7499-45eb-c8a7-8cbdc880026e"
      },
      "outputs": [
        {
          "name": "stdout",
          "output_type": "stream",
          "text": [
            "Requirement already satisfied: scikit-learn in c:\\users\\asus\\anaconda3\\lib\\site-packages (1.3.0)\n",
            "Requirement already satisfied: numpy>=1.17.3 in c:\\users\\asus\\anaconda3\\lib\\site-packages (from scikit-learn) (1.24.3)\n",
            "Requirement already satisfied: scipy>=1.5.0 in c:\\users\\asus\\anaconda3\\lib\\site-packages (from scikit-learn) (1.10.1)\n",
            "Requirement already satisfied: joblib>=1.1.1 in c:\\users\\asus\\anaconda3\\lib\\site-packages (from scikit-learn) (1.2.0)\n",
            "Requirement already satisfied: threadpoolctl>=2.0.0 in c:\\users\\asus\\anaconda3\\lib\\site-packages (from scikit-learn) (2.2.0)\n",
            "Collecting fastapi\n",
            "  Obtaining dependency information for fastapi from https://files.pythonhosted.org/packages/6d/45/d9d3e8eeefbe93be1c50060a9d9a9f366dba66f288bb518a9566a23a8631/fastapi-0.117.1-py3-none-any.whl.metadata\n",
            "  Downloading fastapi-0.117.1-py3-none-any.whl.metadata (28 kB)\n",
            "Collecting uvicorn\n",
            "  Obtaining dependency information for uvicorn from https://files.pythonhosted.org/packages/96/06/5cc0542b47c0338c1cb676b348e24a1c29acabc81000bced518231dded6f/uvicorn-0.36.0-py3-none-any.whl.metadata\n",
            "  Downloading uvicorn-0.36.0-py3-none-any.whl.metadata (6.6 kB)\n",
            "Collecting starlette<0.49.0,>=0.40.0 (from fastapi)\n",
            "  Obtaining dependency information for starlette<0.49.0,>=0.40.0 from https://files.pythonhosted.org/packages/be/72/2db2f49247d0a18b4f1bb9a5a39a0162869acf235f3a96418363947b3d46/starlette-0.48.0-py3-none-any.whl.metadata\n",
            "  Downloading starlette-0.48.0-py3-none-any.whl.metadata (6.3 kB)\n",
            "Requirement already satisfied: pydantic!=1.8,!=1.8.1,!=2.0.0,!=2.0.1,!=2.1.0,<3.0.0,>=1.7.4 in c:\\users\\asus\\anaconda3\\lib\\site-packages (from fastapi) (2.4.2)\n",
            "Collecting typing-extensions>=4.8.0 (from fastapi)\n",
            "  Obtaining dependency information for typing-extensions>=4.8.0 from https://files.pythonhosted.org/packages/18/67/36e9267722cc04a6b9f15c7f3441c2363321a3ea07da7ae0c0707beb2a9c/typing_extensions-4.15.0-py3-none-any.whl.metadata\n",
            "  Downloading typing_extensions-4.15.0-py3-none-any.whl.metadata (3.3 kB)\n",
            "Requirement already satisfied: click>=7.0 in c:\\users\\asus\\anaconda3\\lib\\site-packages (from uvicorn) (8.0.4)\n",
            "Collecting h11>=0.8 (from uvicorn)\n",
            "  Obtaining dependency information for h11>=0.8 from https://files.pythonhosted.org/packages/04/4b/29cac41a4d98d144bf5f6d33995617b185d14b22401f75ca86f384e87ff1/h11-0.16.0-py3-none-any.whl.metadata\n",
            "  Downloading h11-0.16.0-py3-none-any.whl.metadata (8.3 kB)\n",
            "Requirement already satisfied: colorama in c:\\users\\asus\\anaconda3\\lib\\site-packages (from click>=7.0->uvicorn) (0.4.6)\n",
            "Requirement already satisfied: annotated-types>=0.4.0 in c:\\users\\asus\\anaconda3\\lib\\site-packages (from pydantic!=1.8,!=1.8.1,!=2.0.0,!=2.0.1,!=2.1.0,<3.0.0,>=1.7.4->fastapi) (0.6.0)\n",
            "Requirement already satisfied: pydantic-core==2.10.1 in c:\\users\\asus\\anaconda3\\lib\\site-packages (from pydantic!=1.8,!=1.8.1,!=2.0.0,!=2.0.1,!=2.1.0,<3.0.0,>=1.7.4->fastapi) (2.10.1)\n",
            "Collecting anyio<5,>=3.6.2 (from starlette<0.49.0,>=0.40.0->fastapi)\n",
            "  Obtaining dependency information for anyio<5,>=3.6.2 from https://files.pythonhosted.org/packages/6f/12/e5e0282d673bb9746bacfb6e2dba8719989d3660cdb2ea79aee9a9651afb/anyio-4.10.0-py3-none-any.whl.metadata\n",
            "  Downloading anyio-4.10.0-py3-none-any.whl.metadata (4.0 kB)\n",
            "Requirement already satisfied: idna>=2.8 in c:\\users\\asus\\anaconda3\\lib\\site-packages (from anyio<5,>=3.6.2->starlette<0.49.0,>=0.40.0->fastapi) (3.4)\n",
            "Requirement already satisfied: sniffio>=1.1 in c:\\users\\asus\\anaconda3\\lib\\site-packages (from anyio<5,>=3.6.2->starlette<0.49.0,>=0.40.0->fastapi) (1.2.0)\n",
            "Downloading fastapi-0.117.1-py3-none-any.whl (95 kB)\n",
            "   ---------------------------------------- 0.0/96.0 kB ? eta -:--:--\n",
            "   ----------------- ---------------------- 41.0/96.0 kB 960.0 kB/s eta 0:00:01\n",
            "   -------------------------------------- - 92.2/96.0 kB 1.0 MB/s eta 0:00:01\n",
            "   ---------------------------------------- 96.0/96.0 kB 911.9 kB/s eta 0:00:00\n",
            "Downloading uvicorn-0.36.0-py3-none-any.whl (67 kB)\n",
            "   ---------------------------------------- 0.0/67.7 kB ? eta -:--:--\n",
            "   ------------------ --------------------- 30.7/67.7 kB 1.4 MB/s eta 0:00:01\n",
            "   ---------------------------------------- 67.7/67.7 kB 1.2 MB/s eta 0:00:00\n",
            "Downloading h11-0.16.0-py3-none-any.whl (37 kB)\n",
            "Downloading starlette-0.48.0-py3-none-any.whl (73 kB)\n",
            "   ---------------------------------------- 0.0/73.7 kB ? eta -:--:--\n",
            "   ---------------------- ----------------- 41.0/73.7 kB 991.0 kB/s eta 0:00:01\n",
            "   ---------------------------------------- 73.7/73.7 kB 1.0 MB/s eta 0:00:00\n",
            "Downloading typing_extensions-4.15.0-py3-none-any.whl (44 kB)\n",
            "   ---------------------------------------- 0.0/44.6 kB ? eta -:--:--\n",
            "   ---------------------------------------- 44.6/44.6 kB 1.1 MB/s eta 0:00:00\n",
            "Downloading anyio-4.10.0-py3-none-any.whl (107 kB)\n",
            "   ---------------------------------------- 0.0/107.2 kB ? eta -:--:--\n",
            "   -------------- ------------------------ 41.0/107.2 kB 960.0 kB/s eta 0:00:01\n",
            "   ----------------------------- --------- 81.9/107.2 kB 919.0 kB/s eta 0:00:01\n",
            "   ---------------------------------- ----- 92.2/107.2 kB 1.1 MB/s eta 0:00:01\n",
            "   ---------------------------------- ----- 92.2/107.2 kB 1.1 MB/s eta 0:00:01\n",
            "   -------------------------------------- 107.2/107.2 kB 477.7 kB/s eta 0:00:00\n",
            "Installing collected packages: typing-extensions, h11, uvicorn, anyio, starlette, fastapi\n",
            "  Attempting uninstall: typing-extensions\n",
            "    Found existing installation: typing_extensions 4.7.1\n",
            "    Uninstalling typing_extensions-4.7.1:\n",
            "      Successfully uninstalled typing_extensions-4.7.1\n",
            "  Attempting uninstall: anyio\n",
            "    Found existing installation: anyio 3.5.0\n",
            "    Uninstalling anyio-3.5.0:\n",
            "      Successfully uninstalled anyio-3.5.0\n",
            "Successfully installed anyio-4.10.0 fastapi-0.117.1 h11-0.16.0 starlette-0.48.0 typing-extensions-4.15.0 uvicorn-0.36.0\n"
          ]
        },
        {
          "name": "stderr",
          "output_type": "stream",
          "text": [
            "ERROR: pip's dependency resolver does not currently take into account all the packages that are installed. This behaviour is the source of the following dependency conflicts.\n",
            "jupyter-server 1.23.4 requires anyio<4,>=3.1.0, but you have anyio 4.10.0 which is incompatible.\n",
            "langchain 0.0.314 requires anyio<4.0, but you have anyio 4.10.0 which is incompatible.\n"
          ]
        }
      ],
      "source": [
        "!pip install scikit-learn\n",
        "!pip install fastapi uvicorn\n"
      ]
    },
    {
      "cell_type": "code",
      "execution_count": 10,
      "metadata": {},
      "outputs": [
        {
          "name": "stdout",
          "output_type": "stream",
          "text": [
            "Requirement already satisfied: fastapi in c:\\users\\asus\\anaconda3\\lib\\site-packages (0.117.1)\n",
            "Requirement already satisfied: pydantic in c:\\users\\asus\\anaconda3\\lib\\site-packages (2.4.2)\n",
            "Collecting pydantic\n",
            "  Obtaining dependency information for pydantic from https://files.pythonhosted.org/packages/3e/d3/108f2006987c58e76691d5ae5d200dd3e0f532cb4e5fa3560751c3a1feba/pydantic-2.11.9-py3-none-any.whl.metadata\n",
            "  Downloading pydantic-2.11.9-py3-none-any.whl.metadata (68 kB)\n",
            "     ---------------------------------------- 0.0/68.4 kB ? eta -:--:--\n",
            "     ---------------------------- --------- 51.2/68.4 kB 871.5 kB/s eta 0:00:01\n",
            "     -------------------------------------- 68.4/68.4 kB 938.7 kB/s eta 0:00:00\n",
            "Requirement already satisfied: typing_extensions in c:\\users\\asus\\anaconda3\\lib\\site-packages (4.15.0)\n",
            "Requirement already satisfied: starlette<0.49.0,>=0.40.0 in c:\\users\\asus\\anaconda3\\lib\\site-packages (from fastapi) (0.48.0)\n",
            "Requirement already satisfied: annotated-types>=0.6.0 in c:\\users\\asus\\anaconda3\\lib\\site-packages (from pydantic) (0.6.0)\n",
            "Collecting pydantic-core==2.33.2 (from pydantic)\n",
            "  Obtaining dependency information for pydantic-core==2.33.2 from https://files.pythonhosted.org/packages/fe/1b/25b7cccd4519c0b23c2dd636ad39d381abf113085ce4f7bec2b0dc755eb1/pydantic_core-2.33.2-cp311-cp311-win_amd64.whl.metadata\n",
            "  Downloading pydantic_core-2.33.2-cp311-cp311-win_amd64.whl.metadata (6.9 kB)\n",
            "Collecting typing-inspection>=0.4.0 (from pydantic)\n",
            "  Obtaining dependency information for typing-inspection>=0.4.0 from https://files.pythonhosted.org/packages/17/69/cd203477f944c353c31bade965f880aa1061fd6bf05ded0726ca845b6ff7/typing_inspection-0.4.1-py3-none-any.whl.metadata\n",
            "  Downloading typing_inspection-0.4.1-py3-none-any.whl.metadata (2.6 kB)\n",
            "Requirement already satisfied: anyio<5,>=3.6.2 in c:\\users\\asus\\anaconda3\\lib\\site-packages (from starlette<0.49.0,>=0.40.0->fastapi) (4.10.0)\n",
            "Requirement already satisfied: idna>=2.8 in c:\\users\\asus\\anaconda3\\lib\\site-packages (from anyio<5,>=3.6.2->starlette<0.49.0,>=0.40.0->fastapi) (3.4)\n",
            "Requirement already satisfied: sniffio>=1.1 in c:\\users\\asus\\anaconda3\\lib\\site-packages (from anyio<5,>=3.6.2->starlette<0.49.0,>=0.40.0->fastapi) (1.2.0)\n",
            "Downloading pydantic-2.11.9-py3-none-any.whl (444 kB)\n",
            "   ---------------------------------------- 0.0/444.9 kB ? eta -:--:--\n",
            "   -------------- ------------------------- 163.8/444.9 kB 3.3 MB/s eta 0:00:01\n",
            "   ------------------------ --------------- 276.5/444.9 kB 2.9 MB/s eta 0:00:01\n",
            "   ---------------------------------------  440.3/444.9 kB 3.4 MB/s eta 0:00:01\n",
            "   ---------------------------------------- 444.9/444.9 kB 3.1 MB/s eta 0:00:00\n",
            "Downloading pydantic_core-2.33.2-cp311-cp311-win_amd64.whl (2.0 MB)\n",
            "   ---------------------------------------- 0.0/2.0 MB ? eta -:--:--\n",
            "   - -------------------------------------- 0.1/2.0 MB 5.5 MB/s eta 0:00:01\n",
            "   -------- ------------------------------- 0.4/2.0 MB 5.4 MB/s eta 0:00:01\n",
            "   ---------------- ----------------------- 0.8/2.0 MB 6.2 MB/s eta 0:00:01\n",
            "   ---------------------- ----------------- 1.1/2.0 MB 6.2 MB/s eta 0:00:01\n",
            "   --------------------------- ------------ 1.3/2.0 MB 6.0 MB/s eta 0:00:01\n",
            "   ----------------------------------- ---- 1.7/2.0 MB 6.5 MB/s eta 0:00:01\n",
            "   ---------------------------------------  1.9/2.0 MB 6.5 MB/s eta 0:00:01\n",
            "   ---------------------------------------- 2.0/2.0 MB 6.2 MB/s eta 0:00:00\n",
            "Downloading typing_inspection-0.4.1-py3-none-any.whl (14 kB)\n",
            "Installing collected packages: typing-inspection, pydantic-core, pydantic\n",
            "  Attempting uninstall: pydantic-core\n",
            "    Found existing installation: pydantic_core 2.10.1\n",
            "    Uninstalling pydantic_core-2.10.1:\n",
            "      Successfully uninstalled pydantic_core-2.10.1\n",
            "Note: you may need to restart the kernel to use updated packages.\n"
          ]
        },
        {
          "name": "stderr",
          "output_type": "stream",
          "text": [
            "ERROR: Could not install packages due to an OSError: [WinError 5] Access is denied: 'C:\\\\Users\\\\asus\\\\anaconda3\\\\Lib\\\\site-packages\\\\~ydantic_core\\\\_pydantic_core.cp311-win_amd64.pyd'\n",
            "Consider using the `--user` option or check the permissions.\n",
            "\n"
          ]
        }
      ],
      "source": [
        "pip install --upgrade fastapi pydantic typing_extensions\n"
      ]
    },
    {
      "cell_type": "code",
      "execution_count": 11,
      "metadata": {
        "id": "4D0tOnAmFJFw"
      },
      "outputs": [
        {
          "ename": "ImportError",
          "evalue": "cannot import name 'Doc' from 'typing_extensions' (c:\\Users\\asus\\anaconda3\\Lib\\site-packages\\typing_extensions.py)",
          "output_type": "error",
          "traceback": [
            "\u001b[1;31m---------------------------------------------------------------------------\u001b[0m",
            "\u001b[1;31mImportError\u001b[0m                               Traceback (most recent call last)",
            "Cell \u001b[1;32mIn[11], line 2\u001b[0m\n\u001b[0;32m      1\u001b[0m \u001b[38;5;66;03m# -------------------- Imports --------------------\u001b[39;00m\n\u001b[1;32m----> 2\u001b[0m \u001b[38;5;28;01mfrom\u001b[39;00m \u001b[38;5;21;01mfastapi\u001b[39;00m \u001b[38;5;28;01mimport\u001b[39;00m FastAPI\n\u001b[0;32m      3\u001b[0m \u001b[38;5;28;01mfrom\u001b[39;00m \u001b[38;5;21;01mpydantic\u001b[39;00m \u001b[38;5;28;01mimport\u001b[39;00m BaseModel\n\u001b[0;32m      4\u001b[0m \u001b[38;5;28;01mfrom\u001b[39;00m \u001b[38;5;21;01mtyping\u001b[39;00m \u001b[38;5;28;01mimport\u001b[39;00m List\n",
            "File \u001b[1;32mc:\\Users\\asus\\anaconda3\\Lib\\site-packages\\fastapi\\__init__.py:7\u001b[0m\n\u001b[0;32m      3\u001b[0m __version__ \u001b[38;5;241m=\u001b[39m \u001b[38;5;124m\"\u001b[39m\u001b[38;5;124m0.117.1\u001b[39m\u001b[38;5;124m\"\u001b[39m\n\u001b[0;32m      5\u001b[0m \u001b[38;5;28;01mfrom\u001b[39;00m \u001b[38;5;21;01mstarlette\u001b[39;00m \u001b[38;5;28;01mimport\u001b[39;00m status \u001b[38;5;28;01mas\u001b[39;00m status\n\u001b[1;32m----> 7\u001b[0m \u001b[38;5;28;01mfrom\u001b[39;00m \u001b[38;5;21;01m.\u001b[39;00m\u001b[38;5;21;01mapplications\u001b[39;00m \u001b[38;5;28;01mimport\u001b[39;00m FastAPI \u001b[38;5;28;01mas\u001b[39;00m FastAPI\n\u001b[0;32m      8\u001b[0m \u001b[38;5;28;01mfrom\u001b[39;00m \u001b[38;5;21;01m.\u001b[39;00m\u001b[38;5;21;01mbackground\u001b[39;00m \u001b[38;5;28;01mimport\u001b[39;00m BackgroundTasks \u001b[38;5;28;01mas\u001b[39;00m BackgroundTasks\n\u001b[0;32m      9\u001b[0m \u001b[38;5;28;01mfrom\u001b[39;00m \u001b[38;5;21;01m.\u001b[39;00m\u001b[38;5;21;01mdatastructures\u001b[39;00m \u001b[38;5;28;01mimport\u001b[39;00m UploadFile \u001b[38;5;28;01mas\u001b[39;00m UploadFile\n",
            "File \u001b[1;32mc:\\Users\\asus\\anaconda3\\Lib\\site-packages\\fastapi\\applications.py:16\u001b[0m\n\u001b[0;32m      1\u001b[0m \u001b[38;5;28;01mfrom\u001b[39;00m \u001b[38;5;21;01menum\u001b[39;00m \u001b[38;5;28;01mimport\u001b[39;00m Enum\n\u001b[0;32m      2\u001b[0m \u001b[38;5;28;01mfrom\u001b[39;00m \u001b[38;5;21;01mtyping\u001b[39;00m \u001b[38;5;28;01mimport\u001b[39;00m (\n\u001b[0;32m      3\u001b[0m     Any,\n\u001b[0;32m      4\u001b[0m     Awaitable,\n\u001b[1;32m   (...)\u001b[0m\n\u001b[0;32m     13\u001b[0m     Union,\n\u001b[0;32m     14\u001b[0m )\n\u001b[1;32m---> 16\u001b[0m \u001b[38;5;28;01mfrom\u001b[39;00m \u001b[38;5;21;01mfastapi\u001b[39;00m \u001b[38;5;28;01mimport\u001b[39;00m routing\n\u001b[0;32m     17\u001b[0m \u001b[38;5;28;01mfrom\u001b[39;00m \u001b[38;5;21;01mfastapi\u001b[39;00m\u001b[38;5;21;01m.\u001b[39;00m\u001b[38;5;21;01mdatastructures\u001b[39;00m \u001b[38;5;28;01mimport\u001b[39;00m Default, DefaultPlaceholder\n\u001b[0;32m     18\u001b[0m \u001b[38;5;28;01mfrom\u001b[39;00m \u001b[38;5;21;01mfastapi\u001b[39;00m\u001b[38;5;21;01m.\u001b[39;00m\u001b[38;5;21;01mexception_handlers\u001b[39;00m \u001b[38;5;28;01mimport\u001b[39;00m (\n\u001b[0;32m     19\u001b[0m     http_exception_handler,\n\u001b[0;32m     20\u001b[0m     request_validation_exception_handler,\n\u001b[0;32m     21\u001b[0m     websocket_request_validation_exception_handler,\n\u001b[0;32m     22\u001b[0m )\n",
            "File \u001b[1;32mc:\\Users\\asus\\anaconda3\\Lib\\site-packages\\fastapi\\routing.py:25\u001b[0m\n\u001b[0;32m      7\u001b[0m \u001b[38;5;28;01mfrom\u001b[39;00m \u001b[38;5;21;01menum\u001b[39;00m \u001b[38;5;28;01mimport\u001b[39;00m Enum, IntEnum\n\u001b[0;32m      8\u001b[0m \u001b[38;5;28;01mfrom\u001b[39;00m \u001b[38;5;21;01mtyping\u001b[39;00m \u001b[38;5;28;01mimport\u001b[39;00m (\n\u001b[0;32m      9\u001b[0m     Any,\n\u001b[0;32m     10\u001b[0m     AsyncIterator,\n\u001b[1;32m   (...)\u001b[0m\n\u001b[0;32m     22\u001b[0m     Union,\n\u001b[0;32m     23\u001b[0m )\n\u001b[1;32m---> 25\u001b[0m \u001b[38;5;28;01mfrom\u001b[39;00m \u001b[38;5;21;01mfastapi\u001b[39;00m \u001b[38;5;28;01mimport\u001b[39;00m params\n\u001b[0;32m     26\u001b[0m \u001b[38;5;28;01mfrom\u001b[39;00m \u001b[38;5;21;01mfastapi\u001b[39;00m\u001b[38;5;21;01m.\u001b[39;00m\u001b[38;5;21;01m_compat\u001b[39;00m \u001b[38;5;28;01mimport\u001b[39;00m (\n\u001b[0;32m     27\u001b[0m     ModelField,\n\u001b[0;32m     28\u001b[0m     Undefined,\n\u001b[1;32m   (...)\u001b[0m\n\u001b[0;32m     32\u001b[0m     lenient_issubclass,\n\u001b[0;32m     33\u001b[0m )\n\u001b[0;32m     34\u001b[0m \u001b[38;5;28;01mfrom\u001b[39;00m \u001b[38;5;21;01mfastapi\u001b[39;00m\u001b[38;5;21;01m.\u001b[39;00m\u001b[38;5;21;01mdatastructures\u001b[39;00m \u001b[38;5;28;01mimport\u001b[39;00m Default, DefaultPlaceholder\n",
            "File \u001b[1;32mc:\\Users\\asus\\anaconda3\\Lib\\site-packages\\fastapi\\params.py:5\u001b[0m\n\u001b[0;32m      2\u001b[0m \u001b[38;5;28;01mfrom\u001b[39;00m \u001b[38;5;21;01menum\u001b[39;00m \u001b[38;5;28;01mimport\u001b[39;00m Enum\n\u001b[0;32m      3\u001b[0m \u001b[38;5;28;01mfrom\u001b[39;00m \u001b[38;5;21;01mtyping\u001b[39;00m \u001b[38;5;28;01mimport\u001b[39;00m Any, Callable, Dict, List, Optional, Sequence, Union\n\u001b[1;32m----> 5\u001b[0m \u001b[38;5;28;01mfrom\u001b[39;00m \u001b[38;5;21;01mfastapi\u001b[39;00m\u001b[38;5;21;01m.\u001b[39;00m\u001b[38;5;21;01mopenapi\u001b[39;00m\u001b[38;5;21;01m.\u001b[39;00m\u001b[38;5;21;01mmodels\u001b[39;00m \u001b[38;5;28;01mimport\u001b[39;00m Example\n\u001b[0;32m      6\u001b[0m \u001b[38;5;28;01mfrom\u001b[39;00m \u001b[38;5;21;01mpydantic\u001b[39;00m\u001b[38;5;21;01m.\u001b[39;00m\u001b[38;5;21;01mfields\u001b[39;00m \u001b[38;5;28;01mimport\u001b[39;00m FieldInfo\n\u001b[0;32m      7\u001b[0m \u001b[38;5;28;01mfrom\u001b[39;00m \u001b[38;5;21;01mtyping_extensions\u001b[39;00m \u001b[38;5;28;01mimport\u001b[39;00m Annotated, deprecated\n",
            "File \u001b[1;32mc:\\Users\\asus\\anaconda3\\Lib\\site-packages\\fastapi\\openapi\\models.py:4\u001b[0m\n\u001b[0;32m      1\u001b[0m \u001b[38;5;28;01mfrom\u001b[39;00m \u001b[38;5;21;01menum\u001b[39;00m \u001b[38;5;28;01mimport\u001b[39;00m Enum\n\u001b[0;32m      2\u001b[0m \u001b[38;5;28;01mfrom\u001b[39;00m \u001b[38;5;21;01mtyping\u001b[39;00m \u001b[38;5;28;01mimport\u001b[39;00m Any, Callable, Dict, Iterable, List, Optional, Set, Type, Union\n\u001b[1;32m----> 4\u001b[0m \u001b[38;5;28;01mfrom\u001b[39;00m \u001b[38;5;21;01mfastapi\u001b[39;00m\u001b[38;5;21;01m.\u001b[39;00m\u001b[38;5;21;01m_compat\u001b[39;00m \u001b[38;5;28;01mimport\u001b[39;00m (\n\u001b[0;32m      5\u001b[0m     PYDANTIC_V2,\n\u001b[0;32m      6\u001b[0m     CoreSchema,\n\u001b[0;32m      7\u001b[0m     GetJsonSchemaHandler,\n\u001b[0;32m      8\u001b[0m     JsonSchemaValue,\n\u001b[0;32m      9\u001b[0m     _model_rebuild,\n\u001b[0;32m     10\u001b[0m     with_info_plain_validator_function,\n\u001b[0;32m     11\u001b[0m )\n\u001b[0;32m     12\u001b[0m \u001b[38;5;28;01mfrom\u001b[39;00m \u001b[38;5;21;01mfastapi\u001b[39;00m\u001b[38;5;21;01m.\u001b[39;00m\u001b[38;5;21;01mlogger\u001b[39;00m \u001b[38;5;28;01mimport\u001b[39;00m logger\n\u001b[0;32m     13\u001b[0m \u001b[38;5;28;01mfrom\u001b[39;00m \u001b[38;5;21;01mpydantic\u001b[39;00m \u001b[38;5;28;01mimport\u001b[39;00m AnyUrl, BaseModel, Field\n",
            "File \u001b[1;32mc:\\Users\\asus\\anaconda3\\Lib\\site-packages\\fastapi\\_compat.py:22\u001b[0m\n\u001b[0;32m      5\u001b[0m \u001b[38;5;28;01mfrom\u001b[39;00m \u001b[38;5;21;01mfunctools\u001b[39;00m \u001b[38;5;28;01mimport\u001b[39;00m lru_cache\n\u001b[0;32m      6\u001b[0m \u001b[38;5;28;01mfrom\u001b[39;00m \u001b[38;5;21;01mtyping\u001b[39;00m \u001b[38;5;28;01mimport\u001b[39;00m (\n\u001b[0;32m      7\u001b[0m     Any,\n\u001b[0;32m      8\u001b[0m     Callable,\n\u001b[1;32m   (...)\u001b[0m\n\u001b[0;32m     19\u001b[0m     cast,\n\u001b[0;32m     20\u001b[0m )\n\u001b[1;32m---> 22\u001b[0m \u001b[38;5;28;01mfrom\u001b[39;00m \u001b[38;5;21;01mfastapi\u001b[39;00m\u001b[38;5;21;01m.\u001b[39;00m\u001b[38;5;21;01mexceptions\u001b[39;00m \u001b[38;5;28;01mimport\u001b[39;00m RequestErrorModel\n\u001b[0;32m     23\u001b[0m \u001b[38;5;28;01mfrom\u001b[39;00m \u001b[38;5;21;01mfastapi\u001b[39;00m\u001b[38;5;21;01m.\u001b[39;00m\u001b[38;5;21;01mtypes\u001b[39;00m \u001b[38;5;28;01mimport\u001b[39;00m IncEx, ModelNameMap, UnionType\n\u001b[0;32m     24\u001b[0m \u001b[38;5;28;01mfrom\u001b[39;00m \u001b[38;5;21;01mpydantic\u001b[39;00m \u001b[38;5;28;01mimport\u001b[39;00m BaseModel, create_model\n",
            "File \u001b[1;32mc:\\Users\\asus\\anaconda3\\Lib\\site-packages\\fastapi\\exceptions.py:6\u001b[0m\n\u001b[0;32m      4\u001b[0m \u001b[38;5;28;01mfrom\u001b[39;00m \u001b[38;5;21;01mstarlette\u001b[39;00m\u001b[38;5;21;01m.\u001b[39;00m\u001b[38;5;21;01mexceptions\u001b[39;00m \u001b[38;5;28;01mimport\u001b[39;00m HTTPException \u001b[38;5;28;01mas\u001b[39;00m StarletteHTTPException\n\u001b[0;32m      5\u001b[0m \u001b[38;5;28;01mfrom\u001b[39;00m \u001b[38;5;21;01mstarlette\u001b[39;00m\u001b[38;5;21;01m.\u001b[39;00m\u001b[38;5;21;01mexceptions\u001b[39;00m \u001b[38;5;28;01mimport\u001b[39;00m WebSocketException \u001b[38;5;28;01mas\u001b[39;00m StarletteWebSocketException\n\u001b[1;32m----> 6\u001b[0m \u001b[38;5;28;01mfrom\u001b[39;00m \u001b[38;5;21;01mtyping_extensions\u001b[39;00m \u001b[38;5;28;01mimport\u001b[39;00m Annotated, Doc\n\u001b[0;32m      9\u001b[0m \u001b[38;5;28;01mclass\u001b[39;00m \u001b[38;5;21;01mHTTPException\u001b[39;00m(StarletteHTTPException):\n\u001b[0;32m     10\u001b[0m \u001b[38;5;250m    \u001b[39m\u001b[38;5;124;03m\"\"\"\u001b[39;00m\n\u001b[0;32m     11\u001b[0m \u001b[38;5;124;03m    An HTTP exception you can raise in your own code to show errors to the client.\u001b[39;00m\n\u001b[0;32m     12\u001b[0m \n\u001b[1;32m   (...)\u001b[0m\n\u001b[0;32m     34\u001b[0m \u001b[38;5;124;03m    ```\u001b[39;00m\n\u001b[0;32m     35\u001b[0m \u001b[38;5;124;03m    \"\"\"\u001b[39;00m\n",
            "\u001b[1;31mImportError\u001b[0m: cannot import name 'Doc' from 'typing_extensions' (c:\\Users\\asus\\anaconda3\\Lib\\site-packages\\typing_extensions.py)"
          ]
        }
      ],
      "source": [
        "# -------------------- Imports --------------------\n",
        "from fastapi import FastAPI\n",
        "from pydantic import BaseModel\n",
        "from typing import List\n",
        "import pandas as pd\n",
        "from sklearn.feature_extraction.text import TfidfVectorizer\n",
        "from sklearn.metrics.pairwise import cosine_similarity\n",
        "import json\n",
        "\n",
        "# -------------------- Load JSON Dataset --------------------\n",
        "with open(\"C:\\\\Users\\\\asus\\\\Downloads\\\\Dice Challenge\\\\Recommend\\\\data2.json\", \"r\") as f:\n",
        "    data = json.load(f)  # list of dicts\n",
        "\n",
        "# Keep only relevant fields\n",
        "allowed_fields = [\"id\", \"name\", \"description\", \"imageUrl\", \"price\", \"rating\", \"likes\", \"sex\", \"inStock\"]\n",
        "clean_data = [{k: item[k] for k in allowed_fields if k in item} for item in data]\n",
        "\n",
        "# Convert to DataFrame\n",
        "df = pd.DataFrame(clean_data)\n",
        "\n",
        "# Fill missing numeric fields with 0\n",
        "df[\"price\"] = df[\"price\"].fillna(0)\n",
        "df[\"likes\"] = df[\"likes\"].fillna(0)\n",
        "df[\"rating\"] = df[\"rating\"].fillna(0)\n",
        "\n",
        "# Normalization helpers\n",
        "max_price = df[\"price\"].max()\n",
        "max_likes = df[\"likes\"].max()\n",
        "\n",
        "# TF-IDF Vectorizer for product descriptions\n",
        "vectorizer = TfidfVectorizer(stop_words=\"english\")\n",
        "tfidf_matrix = vectorizer.fit_transform(df[\"description\"].fillna(\"\"))\n",
        "\n",
        "# -------------------- Pydantic Models --------------------\n",
        "class CartItem(BaseModel):\n",
        "    id: str\n",
        "    name: str\n",
        "    description: str\n",
        "    price: float\n",
        "    rating: float\n",
        "    likes: int\n",
        "    sex: str\n",
        "    inStock: bool\n",
        "\n",
        "class Cart(BaseModel):\n",
        "    items: List[CartItem]\n",
        "\n",
        "# -------------------- Helper Functions --------------------\n",
        "def safe_float(x):\n",
        "    \"\"\"Convert NaN or None to 0.0 for JSON serialization\"\"\"\n",
        "    if x is None or (isinstance(x, float) and (x != x)):  # check for nan\n",
        "        return 0.0\n",
        "    return x\n",
        "\n",
        "def compute_score(cart_item, product, cart_vec, product_vec):\n",
        "    try:\n",
        "        # Compare price, rating, likes, inStock\n",
        "        price_score = 1 - abs(cart_item.get(\"price\",0) - product.get(\"price\",0)) / max_price\n",
        "        rating_score = product.get(\"rating\",0) / 5\n",
        "        like_score = product.get(\"likes\",0) / max_likes\n",
        "        ready_score = 1 if cart_item.get(\"inStock\",0) == product.get(\"inStock\",0) else 0\n",
        "\n",
        "        numeric_score = 0.4*price_score + 0.3*rating_score + 0.2*like_score + 0.1*ready_score\n",
        "        text_score = cosine_similarity(cart_vec, product_vec)[0][0]\n",
        "\n",
        "        total_score = 0.4*text_score + 0.6*numeric_score\n",
        "        return total_score\n",
        "    except Exception as e:\n",
        "        print(\"Error in compute_score:\", e)\n",
        "        return -1\n",
        "\n",
        "def recommend_for_item(cart_item, df, top_k=2):\n",
        "    cart_vec = vectorizer.transform([cart_item.get(\"description\",\"\")])\n",
        "    scores = []\n",
        "    for idx, prod in df.iterrows():\n",
        "        product_vec = tfidf_matrix[idx]\n",
        "        score = compute_score(cart_item, prod, cart_vec, product_vec)\n",
        "        if score >= 0:\n",
        "            scores.append((prod, score))\n",
        "    top = sorted(scores, key=lambda x: x[1], reverse=True)[:top_k]\n",
        "    return [(p[0], safe_float(p[1])) for p in top]\n",
        "\n",
        "def recommend_for_cart(cart_items, df, top_k_final=10):\n",
        "    all_candidates = []\n",
        "    for cart_item in cart_items:\n",
        "        top2 = recommend_for_item(cart_item, df, top_k=2)\n",
        "        all_candidates.extend(top2)\n",
        "\n",
        "    final_top = sorted(all_candidates, key=lambda x: x[1], reverse=True)[:top_k_final]\n",
        "\n",
        "    # Convert Series to dict safely and sanitize floats\n",
        "    result = []\n",
        "    for prod, score in final_top:\n",
        "        prod_dict = {k: safe_float(v) if isinstance(v, float) else v for k, v in prod.to_dict().items()}\n",
        "        # Optional: include score in response\n",
        "        # prod_dict[\"score\"] = score\n",
        "        result.append(prod_dict)\n",
        "    return result"
      ]
    },
    {
      "cell_type": "code",
      "execution_count": null,
      "metadata": {
        "id": "xT2dEPHgb54H"
      },
      "outputs": [],
      "source": [
        "# -------------------- FastAPI App --------------------\n",
        "app = FastAPI(title=\"Product Recommendation API\")\n",
        "\n",
        "@app.post(\"/recommend\")\n",
        "def get_recommendations(cart: Cart):\n",
        "    cart_items = [item.model_dump() for item in cart.items]\n",
        "    recommendations = recommend_for_cart(cart_items, df, top_k_final=10)\n",
        "\n",
        "    # Only return essential fields\n",
        "    allowed_fields = [\"id\", \"name\", \"description\", \"imageUrl\", \"price\", \"rating\", \"likes\", \"sex\", \"inStock\"]\n",
        "    filtered_recommendations = [\n",
        "        {k: v for k, v in rec.items() if k in allowed_fields}\n",
        "        for rec in recommendations\n",
        "    ]\n",
        "\n",
        "    return {\"recommendations\": filtered_recommendations}\n"
      ]
    },
    {
      "cell_type": "markdown",
      "metadata": {
        "id": "BKwW1bvSzuWp"
      },
      "source": []
    },
    {
      "cell_type": "markdown",
      "metadata": {
        "id": "WYwxYtf-zuaU"
      },
      "source": [
        "# **This code is for local testing**"
      ]
    },
    {
      "cell_type": "code",
      "execution_count": null,
      "metadata": {
        "colab": {
          "base_uri": "https://localhost:8080/"
        },
        "id": "0RF5rJmtb-Ui",
        "outputId": "05eda578-d221-49b8-d8b5-82a829f06969"
      },
      "outputs": [
        {
          "name": "stderr",
          "output_type": "stream",
          "text": [
            "INFO:     Started server process [476]\n",
            "INFO:     Waiting for application startup.\n",
            "INFO:     Application startup complete.\n",
            "INFO:     Uvicorn running on http://127.0.0.1:54313 (Press CTRL+C to quit)\n"
          ]
        },
        {
          "name": "stdout",
          "output_type": "stream",
          "text": [
            "INFO:     127.0.0.1:54316 - \"GET /docs HTTP/1.1\" 200 OK\n",
            "✅ Server is ready!\n",
            "INFO:     127.0.0.1:54320 - \"POST /recommend HTTP/1.1\" 200 OK\n",
            "Status Code: 200\n",
            "Request Payload: {\n",
            "  \"items\": [\n",
            "    {\n",
            "      \"id\": \"1\",\n",
            "      \"name\": \"Noise Cancelling Headphones\",\n",
            "      \"description\": \"Wired headphones with premium noise cancellation\",\n",
            "      \"price\": 12000,\n",
            "      \"rating\": 4.0,\n",
            "      \"likes\": 200,\n",
            "      \"sex\": \"NA\",\n",
            "      \"inStock\": true\n",
            "    },\n",
            "    {\n",
            "      \"id\": \"2\",\n",
            "      \"name\": \"Summer Cotton T-shirt\",\n",
            "      \"description\": \"Casual cotton t-shirt for summer daily wear\",\n",
            "      \"price\": 500,\n",
            "      \"rating\": 4.5,\n",
            "      \"likes\": 300,\n",
            "      \"sex\": \"Male\",\n",
            "      \"inStock\": true\n",
            "    }\n",
            "  ]\n",
            "}\n",
            "Response JSON: {\n",
            "  \"recommendations\": [\n",
            "    {\n",
            "      \"id\": 23,\n",
            "      \"name\": \"Wireless Bluetooth Headphones\",\n",
            "      \"description\": \"Premium wireless headphones with noise cancellation\",\n",
            "      \"imageUrl\": \"https://images.meesho.com/images/products/546019146/xzzgz_512.avif?width=360\",\n",
            "      \"price\": 1999,\n",
            "      \"rating\": 4.1,\n",
            "      \"likes\": 345,\n",
            "      \"sex\": \"Unisex\",\n",
            "      \"inStock\": true\n",
            "    },\n",
            "    {\n",
            "      \"id\": 1,\n",
            "      \"name\": \"Comfortable Cotton T-shirt for Women\",\n",
            "      \"description\": \"Soft cotton round neck t-shirt perfect for daily wear\",\n",
            "      \"imageUrl\": \"https://images.meesho.com/images/products/575490971/nw1er_512.avif?width=360\",\n",
            "      \"price\": 199,\n",
            "      \"rating\": 4.2,\n",
            "      \"likes\": 145,\n",
            "      \"sex\": \"Women\",\n",
            "      \"inStock\": true\n",
            "    },\n",
            "    {\n",
            "      \"id\": 14,\n",
            "      \"name\": \"Zip-up Track Jacket\",\n",
            "      \"description\": \"Sporty zip-up jacket for workouts and casual wear\",\n",
            "      \"imageUrl\": \"https://images.meesho.com/images/products/585056071/3cvsf_512.avif?width=360\",\n",
            "      \"price\": 799,\n",
            "      \"rating\": 4.1,\n",
            "      \"likes\": 167,\n",
            "      \"sex\": \"Unisex\",\n",
            "      \"inStock\": true\n",
            "    },\n",
            "    {\n",
            "      \"id\": 21,\n",
            "      \"name\": \"Latest Android Smartphone\",\n",
            "      \"description\": \"High-performance smartphone with advanced camera\",\n",
            "      \"imageUrl\": \"https://images.meesho.com/images/products/599816863/fsyoz_512.avif?width=360\",\n",
            "      \"price\": 12999,\n",
            "      \"rating\": 4.3,\n",
            "      \"likes\": 567,\n",
            "      \"sex\": \"Unisex\",\n",
            "      \"inStock\": true\n",
            "    }\n",
            "  ]\n",
            "}\n"
          ]
        },
        {
          "name": "stdout",
          "output_type": "stream",
          "text": [
            "INFO:     127.0.0.1:54322 - \"GET / HTTP/1.1\" 404 Not Found\n",
            "INFO:     127.0.0.1:54323 - \"GET /favicon.ico HTTP/1.1\" 404 Not Found\n",
            "INFO:     127.0.0.1:54324 - \"GET /.well-known/appspecific/com.chrome.devtools.json HTTP/1.1\" 404 Not Found\n",
            "INFO:     127.0.0.1:54363 - \"GET / HTTP/1.1\" 404 Not Found\n",
            "INFO:     127.0.0.1:54363 - \"GET /.well-known/appspecific/com.chrome.devtools.json HTTP/1.1\" 404 Not Found\n",
            "INFO:     127.0.0.1:54378 - \"GET / HTTP/1.1\" 404 Not Found\n",
            "INFO:     127.0.0.1:54378 - \"GET /.well-known/appspecific/com.chrome.devtools.json HTTP/1.1\" 404 Not Found\n",
            "INFO:     127.0.0.1:53755 - \"GET / HTTP/1.1\" 404 Not Found\n",
            "INFO:     127.0.0.1:53755 - \"GET /.well-known/appspecific/com.chrome.devtools.json HTTP/1.1\" 404 Not Found\n"
          ]
        }
      ],
      "source": [
        "import nest_asyncio\n",
        "import uvicorn\n",
        "from threading import Thread\n",
        "import time\n",
        "import requests\n",
        "import socket\n",
        "import json\n",
        "\n",
        "nest_asyncio.apply()\n",
        "\n",
        "# --- Helper to find a free port ---\n",
        "def find_free_port():\n",
        "    s = socket.socket(socket.AF_INET, socket.SOCK_STREAM)\n",
        "    s.bind(('', 0))\n",
        "    port = s.getsockname()[1]\n",
        "    s.close()\n",
        "    return port\n",
        "\n",
        "# Choose a port\n",
        "PORT = find_free_port()\n",
        "\n",
        "# --- Start FastAPI in background ---\n",
        "def run_app():\n",
        "    uvicorn.run(app, host=\"127.0.0.1\", port=PORT, log_level=\"info\")\n",
        "\n",
        "thread = Thread(target=run_app, daemon=True)\n",
        "thread.start()\n",
        "\n",
        "# --- Wait for server to be ready ---\n",
        "url = f\"http://127.0.0.1:{PORT}/recommend\"\n",
        "for _ in range(10):  # retry for ~10 seconds\n",
        "    try:\n",
        "        r = requests.get(f\"http://127.0.0.1:{PORT}/docs\", timeout=1)\n",
        "        if r.status_code == 200:\n",
        "            print(\"✅ Server is ready!\")\n",
        "            break\n",
        "    except:\n",
        "        time.sleep(1)\n",
        "else:\n",
        "    raise RuntimeError(\"❌ FastAPI server did not start in time\")\n",
        "\n",
        "# --- Test request data (new schema) ---\n",
        "cart_data = {\n",
        "    \"items\": [\n",
        "        {\n",
        "            \"id\": \"1\",\n",
        "            \"name\": \"Noise Cancelling Headphones\",\n",
        "            \"description\": \"Wired headphones with premium noise cancellation\",\n",
        "            \"price\": 12000,\n",
        "            \"rating\": 4.0,\n",
        "            \"likes\": 200,\n",
        "            \"sex\": \"NA\",\n",
        "            \"inStock\": True\n",
        "        },\n",
        "        {\n",
        "            \"id\": \"2\",\n",
        "            \"name\": \"Summer Cotton T-shirt\",\n",
        "            \"description\": \"Casual cotton t-shirt for summer daily wear\",\n",
        "            \"price\": 500,\n",
        "            \"rating\": 4.5,\n",
        "            \"likes\": 300,\n",
        "            \"sex\": \"Male\",\n",
        "            \"inStock\": True\n",
        "        }\n",
        "    ]\n",
        "}\n",
        "\n",
        "# --- Send request ---\n",
        "try:\n",
        "    response = requests.post(url, json=cart_data, timeout=10)\n",
        "    print(\"Status Code:\", response.status_code)\n",
        "    print(\"Request Payload:\", json.dumps(cart_data, indent=2))\n",
        "    print(\"Response JSON:\", json.dumps(response.json(), indent=2))\n",
        "except requests.exceptions.RequestException as e:\n",
        "    print(\"❌ Request error:\", e)\n",
        "except ValueError as e:\n",
        "    print(\"❌ Error parsing response:\", e)\n",
        "    print(response.text)\n"
      ]
    },
    {
      "cell_type": "markdown",
      "metadata": {
        "id": "KiAbb5ufztK-"
      },
      "source": []
    },
    {
      "cell_type": "code",
      "execution_count": null,
      "metadata": {
        "colab": {
          "base_uri": "https://localhost:8080/"
        },
        "id": "1NZ6L7FMdDO2",
        "outputId": "c3a41672-5f07-459a-a0dd-6d687637144a"
      },
      "outputs": [
        {
          "name": "stdout",
          "output_type": "stream",
          "text": [
            "✅ Dataset created with images downloaded from Pixabay!\n"
          ]
        }
      ],
      "source": [
        "# import requests\n",
        "# import os\n",
        "# import pandas as pd\n",
        "# import random\n",
        "# import time\n",
        "\n",
        "# # --- Settings ---\n",
        "# rows_per_cat = 50\n",
        "# sizes = [\"Small\", \"Medium\", \"Large\"]\n",
        "# categories = [\"Clothing\", \"Electronics\", \"Furniture\", \"Books\", \"Toys\"]\n",
        "# ready_opts = [0, 1]\n",
        "# sex_opts = [\"Male\", \"Female\", \"Unisex\"]\n",
        "\n",
        "# category_desc = {\n",
        "#     \"Clothing\": [\"Comfortable cotton t-shirt\", \"Stylish jeans\", \"Elegant dress\", \"Warm hoodie\", \"Casual jacket\"],\n",
        "#     \"Electronics\": [\"Latest smartphone\", \"High-resolution monitor\", \"Wireless headphones\", \"Portable speaker\", \"Smartwatch with GPS\", \"Boat headphones\", \"Wired headphones\"],\n",
        "#     \"Furniture\": [\"Wooden dining table\", \"Ergonomic office chair\", \"Modern sofa\", \"Queen size bed\", \"Bookshelf with storage\"],\n",
        "#     \"Books\": [\"Bestselling novel\", \"Educational textbook\", \"Science fiction story\", \"Inspirational biography\", \"Mystery thriller\"],\n",
        "#     \"Toys\": [\"Puzzle game for kids\", \"Remote-controlled car\", \"Stuffed animal\", \"Building blocks set\", \"Educational toy kit\"]\n",
        "# }\n",
        "\n",
        "# # Pixabay API key\n",
        "# PIXABAY_KEY = \"52385492-d6d5dd7799d350d997d2e3152\"\n",
        "# image_folder = \"product_images1\"\n",
        "# os.makedirs(image_folder, exist_ok=True)\n",
        "\n",
        "# def download_pixabay_image(query, save_path):\n",
        "#     url = f\"https://pixabay.com/api/?key={PIXABAY_KEY}&q={query}&image_type=photo&per_page=3\"\n",
        "#     response = requests.get(url).json()\n",
        "#     hits = response.get(\"hits\")\n",
        "#     if hits:\n",
        "#         img_url = hits[0][\"largeImageURL\"]\n",
        "#         img_data = requests.get(img_url).content\n",
        "#         with open(save_path, \"wb\") as f:\n",
        "#             f.write(img_data)\n",
        "#         return True\n",
        "#     return False\n",
        "\n",
        "# # --- Generate dataset ---\n",
        "# data = []\n",
        "# product_id = 1\n",
        "\n",
        "# for category in categories:\n",
        "#     for _ in range(rows_per_cat):\n",
        "#         size = random.choice(sizes) if category == \"Clothing\" else \"NA\"\n",
        "#         desc = random.choice(category_desc[category])\n",
        "#         image_path = f\"{image_folder}/{product_id}.jpg\"\n",
        "\n",
        "#         # Use category + keyword for Pixabay search\n",
        "#         query = f\"{category} {desc.split()[0]}\"\n",
        "#         success = download_pixabay_image(query, image_path)\n",
        "#         if not success:\n",
        "#             # fallback placeholder\n",
        "#             image_path = \"product_images/placeholder.jpg\"\n",
        "\n",
        "#         row = {\n",
        "#             \"ProductID\": product_id,\n",
        "#             \"Desc\": desc,\n",
        "#             \"Size\": size,\n",
        "#             \"Category\": category,\n",
        "#             \"Price\": random.randint(100, 20000),\n",
        "#             \"Ready\": random.choice(ready_opts),\n",
        "#             \"Rating\": round(random.uniform(1, 5), 1),\n",
        "#             \"Likes\": random.randint(0, 1000),\n",
        "#             \"Sex\": random.choice(sex_opts),\n",
        "#             \"ImagePath\": image_path\n",
        "#         }\n",
        "#         data.append(row)\n",
        "#         product_id += 1\n",
        "#         time.sleep(0.2)  # avoid hitting API limits\n",
        "\n",
        "# # Save CSV\n",
        "# df = pd.DataFrame(data)\n",
        "# df.to_csv(\"matching_dataset_with_pixabay_images.csv\", index=False)\n",
        "# print(\"✅ Dataset created with images downloaded from Pixabay!\")\n"
      ]
    },
    {
      "cell_type": "code",
      "execution_count": null,
      "metadata": {
        "colab": {
          "base_uri": "https://localhost:8080/",
          "height": 17
        },
        "id": "fwcvjepEtsax",
        "outputId": "1cdce73b-a905-4db6-c6e3-ba5a85556108"
      },
      "outputs": [
        {
          "data": {
            "application/javascript": "\n    async function download(id, filename, size) {\n      if (!google.colab.kernel.accessAllowed) {\n        return;\n      }\n      const div = document.createElement('div');\n      const label = document.createElement('label');\n      label.textContent = `Downloading \"${filename}\": `;\n      div.appendChild(label);\n      const progress = document.createElement('progress');\n      progress.max = size;\n      div.appendChild(progress);\n      document.body.appendChild(div);\n\n      const buffers = [];\n      let downloaded = 0;\n\n      const channel = await google.colab.kernel.comms.open(id);\n      // Send a message to notify the kernel that we're ready.\n      channel.send({})\n\n      for await (const message of channel.messages) {\n        // Send a message to notify the kernel that we're ready.\n        channel.send({})\n        if (message.buffers) {\n          for (const buffer of message.buffers) {\n            buffers.push(buffer);\n            downloaded += buffer.byteLength;\n            progress.value = downloaded;\n          }\n        }\n      }\n      const blob = new Blob(buffers, {type: 'application/binary'});\n      const a = document.createElement('a');\n      a.href = window.URL.createObjectURL(blob);\n      a.download = filename;\n      div.appendChild(a);\n      a.click();\n      div.remove();\n    }\n  ",
            "text/plain": [
              "<IPython.core.display.Javascript object>"
            ]
          },
          "metadata": {},
          "output_type": "display_data"
        },
        {
          "data": {
            "application/javascript": "download(\"download_a9179f3f-19ab-43ca-bac6-c4a88fbe5616\", \"product_images1.zip\", 65175871)",
            "text/plain": [
              "<IPython.core.display.Javascript object>"
            ]
          },
          "metadata": {},
          "output_type": "display_data"
        }
      ],
      "source": [
        "# from google.colab import files\n",
        "# import shutil\n",
        "\n",
        "# # Zip the folder you actually want to download\n",
        "# shutil.make_archive(\"product_images1\", 'zip', \"product_images1\")\n",
        "\n",
        "# # Download the zip\n",
        "# files.download(\"product_images1.zip\")\n"
      ]
    },
    {
      "cell_type": "code",
      "execution_count": null,
      "metadata": {
        "id": "ss1RqTfXJLd_"
      },
      "outputs": [],
      "source": []
    },
    {
      "cell_type": "code",
      "execution_count": null,
      "metadata": {},
      "outputs": [],
      "source": []
    },
    {
      "cell_type": "code",
      "execution_count": null,
      "metadata": {},
      "outputs": [],
      "source": []
    },
    {
      "cell_type": "code",
      "execution_count": null,
      "metadata": {},
      "outputs": [],
      "source": []
    },
    {
      "cell_type": "code",
      "execution_count": null,
      "metadata": {},
      "outputs": [],
      "source": [
        "\n",
        "\n",
        "\n",
        "\n",
        "\n",
        "\n",
        "\n",
        "\n",
        "\n",
        "\n",
        "\n",
        "\n",
        "\n",
        "\n",
        "\n",
        "\n",
        "\n",
        "\n",
        "\n",
        "\n",
        "\n",
        "\n",
        "\n",
        "\n",
        "\n",
        "\n",
        "\n",
        "\n",
        "\n",
        "\n",
        "\n",
        "\n",
        "\n",
        "\n",
        "\n",
        "\n",
        "\n",
        "\n",
        "\n",
        "\n",
        "\n"
      ]
    }
  ],
  "metadata": {
    "colab": {
      "provenance": []
    },
    "kernelspec": {
      "display_name": "base",
      "language": "python",
      "name": "python3"
    },
    "language_info": {
      "codemirror_mode": {
        "name": "ipython",
        "version": 3
      },
      "file_extension": ".py",
      "mimetype": "text/x-python",
      "name": "python",
      "nbconvert_exporter": "python",
      "pygments_lexer": "ipython3",
      "version": "3.11.4"
    }
  },
  "nbformat": 4,
  "nbformat_minor": 0
}
